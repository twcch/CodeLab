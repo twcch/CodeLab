{
 "cells": [
  {
   "metadata": {},
   "cell_type": "markdown",
   "source": "# My Jupyter Notebook",
   "id": "3b767cb48a1cc750"
  },
  {
   "metadata": {},
   "cell_type": "markdown",
   "source": "# My Jupyter Notebook on IBM Watson Studio",
   "id": "3706df8d3100ab67"
  },
  {
   "metadata": {},
   "cell_type": "markdown",
   "source": "In this notebook, I will demonstrate some basic Data Science concepts …",
   "id": "195663ab0b1f3058"
  },
  {
   "metadata": {},
   "cell_type": "markdown",
   "source": "Python、R、SQL、Julia、Java",
   "id": "c30f3bb9a6a104ce"
  },
  {
   "metadata": {},
   "cell_type": "markdown",
   "source": "Pandas、NumPy、Matplotlib、Scikit-learn、TensorFlow",
   "id": "3fee673050cd5bb1"
  },
  {
   "metadata": {},
   "cell_type": "markdown",
   "source": [
    "| Tool            | Category        |\n",
    "|-----------------|-----------------|\n",
    "| RStudio         | IDE             |\n",
    "| Apache Spark    | Big Data Engine |"
   ],
   "id": "ab21c797b1d8fcfb"
  },
  {
   "metadata": {},
   "cell_type": "markdown",
   "source": "Below are some examples of evaluating arithmetic expressions in Python.",
   "id": "a36f283bf2fa417b"
  },
  {
   "metadata": {
    "ExecuteTime": {
     "end_time": "2025-04-09T12:37:05.312671Z",
     "start_time": "2025-04-09T12:37:05.309741Z"
    }
   },
   "cell_type": "code",
   "source": [
    "# Example: multiply then add\n",
    "a = 3\n",
    "b = 4\n",
    "c = a * b\n",
    "d = c + 5\n",
    "print(d)"
   ],
   "id": "a184e86cbb1bdaf",
   "outputs": [
    {
     "name": "stdout",
     "output_type": "stream",
     "text": [
      "17\n"
     ]
    }
   ],
   "execution_count": 2
  },
  {
   "metadata": {
    "ExecuteTime": {
     "end_time": "2025-04-09T12:37:14.758716Z",
     "start_time": "2025-04-09T12:37:14.755718Z"
    }
   },
   "cell_type": "code",
   "source": [
    "minutes = 200\n",
    "hours = minutes / 60\n",
    "print(hours)"
   ],
   "id": "52f0fd15db70b4fe",
   "outputs": [
    {
     "name": "stdout",
     "output_type": "stream",
     "text": [
      "3.3333333333333335\n"
     ]
    }
   ],
   "execution_count": 3
  },
  {
   "metadata": {},
   "cell_type": "markdown",
   "source": [
    "## Objectives:\n",
    "- List popular languages for Data Science\n",
    "- List commonly used libraries\n",
    "- Demonstrate arithmetic expressions"
   ],
   "id": "8cd3d206a89d8336"
  },
  {
   "metadata": {},
   "cell_type": "markdown",
   "source": "Chih-Chien Hsieh",
   "id": "20d110f7fe2a9255"
  },
  {
   "metadata": {},
   "cell_type": "code",
   "outputs": [],
   "execution_count": null,
   "source": "",
   "id": "f13b4b4b45f64f38"
  }
 ],
 "metadata": {
  "kernelspec": {
   "display_name": "Python 3",
   "language": "python",
   "name": "python3"
  },
  "language_info": {
   "codemirror_mode": {
    "name": "ipython",
    "version": 2
   },
   "file_extension": ".py",
   "mimetype": "text/x-python",
   "name": "python",
   "nbconvert_exporter": "python",
   "pygments_lexer": "ipython2",
   "version": "2.7.6"
  }
 },
 "nbformat": 4,
 "nbformat_minor": 5
}
