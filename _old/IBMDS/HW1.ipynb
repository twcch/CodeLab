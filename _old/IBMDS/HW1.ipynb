{
 "cells": [
  {
   "cell_type": "markdown",
   "id": "3b767cb48a1cc750",
   "metadata": {},
   "source": [
    "# My Jupyter Notebook"
   ]
  },
  {
   "cell_type": "markdown",
   "id": "3706df8d3100ab67",
   "metadata": {},
   "source": [
    "# My Jupyter Notebook on IBM Watson Studio"
   ]
  },
  {
   "cell_type": "markdown",
   "id": "195663ab0b1f3058",
   "metadata": {},
   "source": [
    "In this notebook, I will demonstrate some basic Data Science concepts …"
   ]
  },
  {
   "cell_type": "markdown",
   "id": "c30f3bb9a6a104ce",
   "metadata": {},
   "source": [
    "Python、R、SQL、Julia、Java"
   ]
  },
  {
   "cell_type": "markdown",
   "id": "3fee673050cd5bb1",
   "metadata": {},
   "source": [
    "Pandas、NumPy、Matplotlib、Scikit-learn、TensorFlow"
   ]
  },
  {
   "cell_type": "markdown",
   "id": "ab21c797b1d8fcfb",
   "metadata": {},
   "source": [
    "| Tool            | Category        |\n",
    "|-----------------|-----------------|\n",
    "| RStudio         | IDE             |\n",
    "| Apache Spark    | Big Data Engine |"
   ]
  },
  {
   "cell_type": "markdown",
   "id": "a36f283bf2fa417b",
   "metadata": {},
   "source": [
    "Below are some examples of evaluating arithmetic expressions in Python."
   ]
  },
  {
   "cell_type": "code",
   "execution_count": 2,
   "id": "a184e86cbb1bdaf",
   "metadata": {
    "ExecuteTime": {
     "end_time": "2025-04-09T12:37:05.312671Z",
     "start_time": "2025-04-09T12:37:05.309741Z"
    }
   },
   "outputs": [
    {
     "name": "stdout",
     "output_type": "stream",
     "text": [
      "17\n"
     ]
    }
   ],
   "source": [
    "# Example: multiply then add\n",
    "a = 3\n",
    "b = 4\n",
    "c = a * b\n",
    "d = c + 5\n",
    "print(d)"
   ]
  },
  {
   "cell_type": "code",
   "execution_count": 3,
   "id": "52f0fd15db70b4fe",
   "metadata": {
    "ExecuteTime": {
     "end_time": "2025-04-09T12:37:14.758716Z",
     "start_time": "2025-04-09T12:37:14.755718Z"
    }
   },
   "outputs": [
    {
     "name": "stdout",
     "output_type": "stream",
     "text": [
      "3.3333333333333335\n"
     ]
    }
   ],
   "source": [
    "minutes = 200\n",
    "hours = minutes / 60\n",
    "print(hours)"
   ]
  },
  {
   "cell_type": "markdown",
   "id": "8cd3d206a89d8336",
   "metadata": {},
   "source": [
    "## Objectives:\n",
    "- List popular languages for Data Science\n",
    "- List commonly used libraries\n",
    "- Demonstrate arithmetic expressions"
   ]
  },
  {
   "cell_type": "markdown",
   "id": "20d110f7fe2a9255",
   "metadata": {},
   "source": [
    "Chih-Chien Hsieh"
   ]
  },
  {
   "cell_type": "code",
   "execution_count": null,
   "id": "f13b4b4b45f64f38",
   "metadata": {},
   "outputs": [],
   "source": []
  }
 ],
 "metadata": {
  "kernelspec": {
   "display_name": "Python 3 (ipykernel)",
   "language": "python",
   "name": "python3"
  },
  "language_info": {
   "codemirror_mode": {
    "name": "ipython",
    "version": 3
   },
   "file_extension": ".py",
   "mimetype": "text/x-python",
   "name": "python",
   "nbconvert_exporter": "python",
   "pygments_lexer": "ipython3",
   "version": "3.11.7"
  }
 },
 "nbformat": 4,
 "nbformat_minor": 5
}
